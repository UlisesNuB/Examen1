{
  "nbformat": 4,
  "nbformat_minor": 0,
  "metadata": {
    "colab": {
      "provenance": [],
      "authorship_tag": "ABX9TyMXNJz3OeHe8r7r0tG2rMfH",
      "include_colab_link": true
    },
    "kernelspec": {
      "name": "python3",
      "display_name": "Python 3"
    },
    "language_info": {
      "name": "python"
    }
  },
  "cells": [
    {
      "cell_type": "markdown",
      "metadata": {
        "id": "view-in-github",
        "colab_type": "text"
      },
      "source": [
        "<a href=\"https://colab.research.google.com/github/UlisesNuB/Examen1/blob/main/last_mile_delibery_customers.ipynb\" target=\"_parent\"><img src=\"https://colab.research.google.com/assets/colab-badge.svg\" alt=\"Open In Colab\"/></a>"
      ]
    },
    {
      "cell_type": "code",
      "execution_count": 1,
      "metadata": {
        "id": "uC1iRrPLsCTB"
      },
      "outputs": [],
      "source": [
        "#Importamos librerias pandas, numpy y matplotlib\n",
        "import pandas as pd\n",
        "import numpy as np\n",
        "import matplotlib.pyplot as plt"
      ]
    },
    {
      "cell_type": "code",
      "source": [
        "#Cargar archivo csv desde equipo\n",
        "from google.colab import files\n",
        "files.upload()"
      ],
      "metadata": {
        "id": "4pQZldG_swNE"
      },
      "execution_count": null,
      "outputs": []
    },
    {
      "cell_type": "code",
      "source": [
        "#Carga desde un archivo .csv sin indice\n",
        "data= pd.read_csv(\"lastmile_delivery_operations_mit_lift_lab_serving_customer.csv\")"
      ],
      "metadata": {
        "id": "LAn6_sOFsyYC"
      },
      "execution_count": 3,
      "outputs": []
    },
    {
      "cell_type": "code",
      "source": [
        "#Verificamos informacion de DataFrame\n",
        "data.info()"
      ],
      "metadata": {
        "id": "CR46txWPt91x"
      },
      "execution_count": null,
      "outputs": []
    },
    {
      "cell_type": "code",
      "source": [
        "#Corroboramos valores nulos\n",
        "valores_nulos=data.isnull().sum()\n",
        "valores_nulos"
      ],
      "metadata": {
        "colab": {
          "base_uri": "https://localhost:8080/"
        },
        "id": "EmE4ylb6t_jv",
        "outputId": "b14a12c0-f13f-4d61-a1dc-a1de66b5def5"
      },
      "execution_count": 5,
      "outputs": [
        {
          "output_type": "execute_result",
          "data": {
            "text/plain": [
              "_child_record_id                           0\n",
              "_record_id                                 0\n",
              "_parent_id                                 0\n",
              "_title                                     0\n",
              "_version                                   0\n",
              "_created_at                                0\n",
              "_updated_at                                0\n",
              "_created_by                                0\n",
              "_updated_by                                0\n",
              "_index                                     0\n",
              "_geometry                                  0\n",
              "_latitude                                  0\n",
              "_longitude                                 0\n",
              "_changeset_id                              0\n",
              "_created_duration                          0\n",
              "_updated_duration                          0\n",
              "_edited_duration                           0\n",
              "name_of_the_store                          0\n",
              "entering_the_store                         0\n",
              "number_of_customers_in_store               0\n",
              "number_of_suppliers_in_store               0\n",
              "picture_cargo_being_delivered             10\n",
              "picture_cargo_being_delivered_captions    33\n",
              "picture_cargo_being_delivered_urls        10\n",
              "number_of_cases_boxes_delivered            0\n",
              "trolley_in_use                             0\n",
              "leaving_the_store                          0\n",
              "dtype: int64"
            ]
          },
          "metadata": {},
          "execution_count": 5
        }
      ]
    },
    {
      "cell_type": "code",
      "source": [
        "#Rellenamos estas columas de imagenes con no hay imagen, ya que no se puede inventar\n",
        "data[\"picture_cargo_being_delivered\"]=data[\"picture_cargo_being_delivered\"].fillna(\"No hay imagen\")\n",
        "data[\"picture_cargo_being_delivered_captions\"]=data[\"picture_cargo_being_delivered_captions\"].fillna(\"No hay imagen\")\n",
        "data[\"picture_cargo_being_delivered_urls\"]=data[\"picture_cargo_being_delivered_urls\"].fillna(\"No hay imagen\")"
      ],
      "metadata": {
        "id": "OoI8PSPjvIG_"
      },
      "execution_count": 6,
      "outputs": []
    },
    {
      "cell_type": "code",
      "source": [
        "#Corroboramos valores nulos en cada fila\n",
        "valores_nulos=data.isnull().sum()\n",
        "valores_nulos"
      ],
      "metadata": {
        "colab": {
          "base_uri": "https://localhost:8080/"
        },
        "id": "Y0S53WQZv-Yr",
        "outputId": "d2d80a72-35de-4b88-b22a-176768428838"
      },
      "execution_count": 7,
      "outputs": [
        {
          "output_type": "execute_result",
          "data": {
            "text/plain": [
              "_child_record_id                          0\n",
              "_record_id                                0\n",
              "_parent_id                                0\n",
              "_title                                    0\n",
              "_version                                  0\n",
              "_created_at                               0\n",
              "_updated_at                               0\n",
              "_created_by                               0\n",
              "_updated_by                               0\n",
              "_index                                    0\n",
              "_geometry                                 0\n",
              "_latitude                                 0\n",
              "_longitude                                0\n",
              "_changeset_id                             0\n",
              "_created_duration                         0\n",
              "_updated_duration                         0\n",
              "_edited_duration                          0\n",
              "name_of_the_store                         0\n",
              "entering_the_store                        0\n",
              "number_of_customers_in_store              0\n",
              "number_of_suppliers_in_store              0\n",
              "picture_cargo_being_delivered             0\n",
              "picture_cargo_being_delivered_captions    0\n",
              "picture_cargo_being_delivered_urls        0\n",
              "number_of_cases_boxes_delivered           0\n",
              "trolley_in_use                            0\n",
              "leaving_the_store                         0\n",
              "dtype: int64"
            ]
          },
          "metadata": {},
          "execution_count": 7
        }
      ]
    },
    {
      "cell_type": "code",
      "source": [
        "#Realizamos el diagrama de caja o bigote de cada columna del dataframe\n",
        "fig = plt.figure(figsize =(15,8))\n",
        "data.plot(kind=\"box\", vert=False)\n",
        "plt.title(\"Valores atipicos del DataFrame\")\n",
        "plt.show() #Dibujamos el diagrama"
      ],
      "metadata": {
        "colab": {
          "base_uri": "https://localhost:8080/",
          "height": 299
        },
        "id": "y9VKfY6owFSC",
        "outputId": "5f7c69bb-71fa-4dd7-b0c3-84e6ebc737b8"
      },
      "execution_count": 8,
      "outputs": [
        {
          "output_type": "display_data",
          "data": {
            "text/plain": [
              "<Figure size 1080x576 with 0 Axes>"
            ]
          },
          "metadata": {}
        },
        {
          "output_type": "display_data",
          "data": {
            "text/plain": [
              "<Figure size 432x288 with 1 Axes>"
            ],
            "image/png": "[encoded data removed]"
          },
          "metadata": {
            "needs_background": "light"
          }
        }
      ]
    },
    {
      "cell_type": "code",
      "source": [
        "#Metodo aplicando desviacion estandar \n",
        "y=data\n",
        "Limite_Superior= y.mean() + 3*y.std()\n",
        "Limite_Inferior= y.mean() - 3*y.std()\n",
        "print(\"Limite superior permitido\", Limite_Superior)\n",
        "print(\"Limite inferior permitido\", Limite_Inferior)"
      ],
      "metadata": {
        "colab": {
          "base_uri": "https://localhost:8080/"
        },
        "id": "5VH0CTFywgcO",
        "outputId": "c7e88c4d-87d8-4aa7-8045-1a7fed3b43a7"
      },
      "execution_count": 9,
      "outputs": [
        {
          "output_type": "stream",
          "name": "stdout",
          "text": [
            "Limite superior permitido _version                             1.000000\n",
            "_index                               0.000000\n",
            "_latitude                           22.553018\n",
            "_longitude                         -97.280436\n",
            "_created_duration                  358.403131\n",
            "_updated_duration                  485.826981\n",
            "_edited_duration                   483.899300\n",
            "number_of_customers_in_store         7.828641\n",
            "number_of_suppliers_in_store         4.146352\n",
            "number_of_cases_boxes_delivered     26.908299\n",
            "dtype: float64\n",
            "Limite inferior permitido _version                             1.000000\n",
            "_index                               0.000000\n",
            "_latitude                           15.874103\n",
            "_longitude                         -99.338593\n",
            "_created_duration                 -294.003131\n",
            "_updated_duration                 -284.226981\n",
            "_edited_duration                  -275.042157\n",
            "number_of_customers_in_store        -4.514356\n",
            "number_of_suppliers_in_store        -1.174923\n",
            "number_of_cases_boxes_delivered    -14.851156\n",
            "dtype: float64\n"
          ]
        },
        {
          "output_type": "stream",
          "name": "stderr",
          "text": [
            "/usr/local/lib/python3.7/dist-packages/ipykernel_launcher.py:3: FutureWarning: Dropping of nuisance columns in DataFrame reductions (with 'numeric_only=None') is deprecated; in a future version this will raise TypeError.  Select only valid columns before calling the reduction.\n",
            "  This is separate from the ipykernel package so we can avoid doing imports until\n",
            "/usr/local/lib/python3.7/dist-packages/ipykernel_launcher.py:4: FutureWarning: Dropping of nuisance columns in DataFrame reductions (with 'numeric_only=None') is deprecated; in a future version this will raise TypeError.  Select only valid columns before calling the reduction.\n",
            "  after removing the cwd from sys.path.\n"
          ]
        }
      ]
    },
    {
      "cell_type": "code",
      "source": [
        "#Encontramos Outliers del dataframe\n",
        "data1= data[(y>Limite_Superior)|(y<Limite_Inferior)]\n",
        "data1"
      ],
      "metadata": {
        "id": "Y04C127zwle5"
      },
      "execution_count": null,
      "outputs": []
    },
    {
      "cell_type": "code",
      "source": [
        "#Obtenemos datos y los outliers se convierten en nulos en el dataframe\n",
        "data2= data[(y<=Limite_Superior)&(y>=Limite_Inferior)]\n",
        "data2"
      ],
      "metadata": {
        "id": "9NSNP-3JwpOt"
      },
      "execution_count": null,
      "outputs": []
    },
    {
      "cell_type": "code",
      "source": [
        "#Corroboramos valores nulos\n",
        "valores_nulos=data.isnull().sum()\n",
        "valores_nulos"
      ],
      "metadata": {
        "id": "qm95zjly0-ax"
      },
      "execution_count": null,
      "outputs": []
    },
    {
      "cell_type": "code",
      "source": [
        "#Eliminamos columnas innecesarias, ya que son strings\n",
        "data3=data.drop(['_child_record_id','_record_id', '_title', '_version', '_created_at', '_updated_at', '_updated_by', '_created_by', '_index','_geometry', '_latitude', '_longitude', '_changeset_id', 'name_of_the_store', 'entering_the_store','picture_cargo_being_delivered','picture_cargo_being_delivered_urls', 'picture_cargo_being_delivered_captions', 'trolley_in_use', 'leaving_the_store'], axis=1)\n",
        "data3"
      ],
      "metadata": {
        "id": "Fogs0SJcwtFV"
      },
      "execution_count": null,
      "outputs": []
    },
    {
      "cell_type": "code",
      "source": [
        "#Unimos los dos archivos para generar uno limpio\n",
        "strings=data[['_child_record_id','_record_id', '_title', '_version', '_created_at', '_updated_at', '_updated_by', '_created_by', '_index','_geometry', '_latitude', '_longitude', '_changeset_id', 'name_of_the_store', 'entering_the_store','picture_cargo_being_delivered','picture_cargo_being_delivered_urls', 'picture_cargo_being_delivered_captions', 'trolley_in_use', 'leaving_the_store']]\n",
        "Datos_limpios=pd.concat([strings, data], axis=1)\n",
        "Datos_limpios"
      ],
      "metadata": {
        "id": "yTC-auEvzAtg"
      },
      "execution_count": null,
      "outputs": []
    },
    {
      "cell_type": "code",
      "source": [
        "#Convertir dataframe a CSV\n",
        "Datos_limpios.to_csv(\"Datos_limpios.csv\")"
      ],
      "metadata": {
        "id": "XBsyqsvWzQPF"
      },
      "execution_count": 15,
      "outputs": []
    },
    {
      "cell_type": "code",
      "source": [
        "#Descargar archivo filtrado en csv\n",
        "from google.colab import files\n",
        "\n",
        "files.download(\"Datos_limpios.csv\")"
      ],
      "metadata": {
        "colab": {
          "base_uri": "https://localhost:8080/",
          "height": 17
        },
        "id": "JIylHqXwzUAp",
        "outputId": "42fde7cc-02d0-460f-ee5a-f971b3efa4ef"
      },
      "execution_count": 16,
      "outputs": [
        {
          "output_type": "display_data",
          "data": {
            "text/plain": [
              "<IPython.core.display.Javascript object>"
            ],
            "application/javascript": [
              "\n",
              "    async function download(id, filename, size) {\n",
              "      if (!google.colab.kernel.accessAllowed) {\n",
              "        return;\n",
              "      }\n",
              "      const div = document.createElement('div');\n",
              "      const label = document.createElement('label');\n",
              "      label.textContent = `Downloading \"${filename}\": `;\n",
              "      div.appendChild(label);\n",
              "      const progress = document.createElement('progress');\n",
              "      progress.max = size;\n",
              "      div.appendChild(progress);\n",
              "      document.body.appendChild(div);\n",
              "\n",
              "      const buffers = [];\n",
              "      let downloaded = 0;\n",
              "\n",
              "      const channel = await google.colab.kernel.comms.open(id);\n",
              "      // Send a message to notify the kernel that we're ready.\n",
              "      channel.send({})\n",
              "\n",
              "      for await (const message of channel.messages) {\n",
              "        // Send a message to notify the kernel that we're ready.\n",
              "        channel.send({})\n",
              "        if (message.buffers) {\n",
              "          for (const buffer of message.buffers) {\n",
              "            buffers.push(buffer);\n",
              "            downloaded += buffer.byteLength;\n",
              "            progress.value = downloaded;\n",
              "          }\n",
              "        }\n",
              "      }\n",
              "      const blob = new Blob(buffers, {type: 'application/binary'});\n",
              "      const a = document.createElement('a');\n",
              "      a.href = window.URL.createObjectURL(blob);\n",
              "      a.download = filename;\n",
              "      div.appendChild(a);\n",
              "      a.click();\n",
              "      div.remove();\n",
              "    }\n",
              "  "
            ]
          },
          "metadata": {}
        },
        {
          "output_type": "display_data",
          "data": {
            "text/plain": [
              "<IPython.core.display.Javascript object>"
            ],
            "application/javascript": [
              "download(\"download_6f8aa1b4-2d65-4a38-a919-8c0a78fc9866\", \"Datos_limpios.csv\", 42478)"
            ]
          },
          "metadata": {}
        }
      ]
    }
  ]
}